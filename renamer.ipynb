{
 "cells": [
  {
   "cell_type": "code",
   "execution_count": 1,
   "id": "7b1ffc40-07eb-44bf-9d3b-1d44bac0b89d",
   "metadata": {},
   "outputs": [],
   "source": [
    "import os\n",
    "\n",
    "\n",
    "# Get the initial parameters from text files\n",
    "with open('month-year.txt', 'r') as f:\n",
    "    month_year = f.read().strip()\n",
    "    \n",
    "with open('filepaths.txt', 'r') as f:\n",
    "    filepaths = f.readlines()\n",
    "    \n",
    "# Recursively open the files in the folder\n",
    "filenames = []\n",
    "for curr, folder, files in os.walk(os.getcwd() + '\\\\filenames'):\n",
    "    if curr == os.getcwd() + '\\\\filenames':\n",
    "        for file in files:\n",
    "            with open(os.path.join(curr, file), 'r') as f:\n",
    "                filenames.append(f.readlines())"
   ]
  },
  {
   "cell_type": "code",
   "execution_count": 2,
   "id": "8817cef3-43c1-474c-ac6e-1b3240089934",
   "metadata": {},
   "outputs": [],
   "source": [
    "def idStrip(path):\n",
    "    #The files are not in alphabetical order by default.\n",
    "    #This strips away the extra information, leaving the ID\n",
    "    \n",
    "    for curr, folder, files in os.walk(path):\n",
    "        for file in files:\n",
    "            if '_' in file:\n",
    "                if '.pdf' in file:\n",
    "                    os.rename(os.path.join(path, file), os.path.join(path, file.split('_')[-2] + '.pdf'))\n",
    "                elif '.csv' in file:\n",
    "                    os.rename(os.path.join(path, file), os.path.join(path, file.split('_')[-2] + '.csv'))"
   ]
  },
  {
   "cell_type": "code",
   "execution_count": 3,
   "id": "e214db0c-3e7e-4285-88d6-9160fd2ad106",
   "metadata": {},
   "outputs": [],
   "source": [
    "def renameFiles(path, names):\n",
    "    #Given a directory of files at path and a list of names:\n",
    "    #Rename each file in the directory to its corresponding item in the list\n",
    "    \n",
    "    for curr, folder, files in os.walk(path):\n",
    "        listCounter = 0\n",
    "        for file in files:\n",
    "            #os.rename(os.path.join(path, file), os.path.join(path, names[listCounter].strip() + month_year + '.pdf'))\n",
    "            if '.pdf' in file:\n",
    "                os.rename(os.path.join(path, file), os.path.join(path, names[listCounter].strip() + month_year + '.pdf'))\n",
    "            elif '.csv' in file:\n",
    "                os.rename(os.path.join(path, file), os.path.join(path, names[listCounter].strip() + month_year + '.csv'))\n",
    "                \n",
    "            listCounter += 1"
   ]
  },
  {
   "cell_type": "code",
   "execution_count": 28,
   "id": "70611a86-e1e6-45a7-895a-03427b6d8b86",
   "metadata": {},
   "outputs": [],
   "source": [
    "for i in range(0, len(filepaths)):\n",
    "    idStrip(filepaths[i].strip())\n",
    "    renameFiles(filepaths[i].strip(), filenames[i])"
   ]
  },
  {
   "cell_type": "code",
   "execution_count": null,
   "id": "589012ac-7b29-415b-9568-425d9120d016",
   "metadata": {},
   "outputs": [],
   "source": []
  }
 ],
 "metadata": {
  "kernelspec": {
   "display_name": "Python 3 (ipykernel)",
   "language": "python",
   "name": "python3"
  },
  "language_info": {
   "codemirror_mode": {
    "name": "ipython",
    "version": 3
   },
   "file_extension": ".py",
   "mimetype": "text/x-python",
   "name": "python",
   "nbconvert_exporter": "python",
   "pygments_lexer": "ipython3",
   "version": "3.10.11"
  }
 },
 "nbformat": 4,
 "nbformat_minor": 5
}
