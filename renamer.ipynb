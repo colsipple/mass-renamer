{
 "cells": [
  {
   "cell_type": "code",
   "execution_count": 4,
   "id": "7b1ffc40-07eb-44bf-9d3b-1d44bac0b89d",
   "metadata": {},
   "outputs": [],
   "source": [
    "import os\n",
    "\n",
    "\n",
    "# Get the initial parameters from text files\n",
    "with open('month-year.txt', 'r') as f:\n",
    "    month_year = f.read().strip()\n",
    "    \n",
    "with open('filepath.txt', 'r') as f:\n",
    "    filepath = f.read().strip()\n",
    "    \n",
    "with open('filenames.txt', 'r') as f:\n",
    "    filenames = f.readlines()"
   ]
  },
  {
   "cell_type": "code",
   "execution_count": 5,
   "id": "8817cef3-43c1-474c-ac6e-1b3240089934",
   "metadata": {},
   "outputs": [],
   "source": [
    "def idStrip(filepath):\n",
    "    #The files are not in alphabetical order by default.\n",
    "    #This strips away the extra information, leaving the ID\n",
    "    \n",
    "    for curr, folder, files in os.walk(filepath):\n",
    "        for file in files:\n",
    "            if '_' in file:\n",
    "                os.rename(file, file.split('_')[-2])"
   ]
  }
 ],
 "metadata": {
  "kernelspec": {
   "display_name": "Python 3 (ipykernel)",
   "language": "python",
   "name": "python3"
  },
  "language_info": {
   "codemirror_mode": {
    "name": "ipython",
    "version": 3
   },
   "file_extension": ".py",
   "mimetype": "text/x-python",
   "name": "python",
   "nbconvert_exporter": "python",
   "pygments_lexer": "ipython3",
   "version": "3.10.11"
  }
 },
 "nbformat": 4,
 "nbformat_minor": 5
}
